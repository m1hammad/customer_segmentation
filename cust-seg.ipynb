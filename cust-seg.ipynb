{
 "cells": [
  {
   "cell_type": "markdown",
   "metadata": {},
   "source": [
    "We "
   ]
  },
  {
   "cell_type": "code",
   "execution_count": 1,
   "metadata": {},
   "outputs": [
    {
     "data": {
      "text/plain": [
       "True"
      ]
     },
     "execution_count": 1,
     "metadata": {},
     "output_type": "execute_result"
    }
   ],
   "source": [
    "import os\n",
    "from dotenv import load_dotenv\n",
    "import pandas as pd\n",
    "\n",
    "load_dotenv()"
   ]
  },
  {
   "cell_type": "code",
   "execution_count": 4,
   "metadata": {},
   "outputs": [
    {
     "name": "stdout",
     "output_type": "stream",
     "text": [
      "  TransactionID CustomerID CustomerDOB CustGender CustLocation  \\\n",
      "0            T1   C5841053     10/1/94          F   JAMSHEDPUR   \n",
      "1            T2   C2142763      4/4/57          M      JHAJJAR   \n",
      "2            T3   C4417068    26/11/96          F       MUMBAI   \n",
      "3            T4   C5342380     14/9/73          F       MUMBAI   \n",
      "4            T5   C9031234     24/3/88          F  NAVI MUMBAI   \n",
      "\n",
      "   CustAccountBalance TransactionDate  TransactionTime  \\\n",
      "0            17819.05          2/8/16           143207   \n",
      "1             2270.69          2/8/16           141858   \n",
      "2            17874.44          2/8/16           142712   \n",
      "3           866503.21          2/8/16           142714   \n",
      "4             6714.43          2/8/16           181156   \n",
      "\n",
      "   TransactionAmount (INR)  \n",
      "0                     25.0  \n",
      "1                  27999.0  \n",
      "2                    459.0  \n",
      "3                   2060.0  \n",
      "4                   1762.5  \n"
     ]
    }
   ],
   "source": [
    "data_path = os.getenv('DATA_PATH')\n",
    "\n",
    "bank_data = pd.read_csv(data_path)\n",
    "\n",
    "print(bank_data.head())"
   ]
  }
 ],
 "metadata": {
  "kernelspec": {
   "display_name": "project-env",
   "language": "python",
   "name": "python3"
  },
  "language_info": {
   "codemirror_mode": {
    "name": "ipython",
    "version": 3
   },
   "file_extension": ".py",
   "mimetype": "text/x-python",
   "name": "python",
   "nbconvert_exporter": "python",
   "pygments_lexer": "ipython3",
   "version": "3.11.5"
  }
 },
 "nbformat": 4,
 "nbformat_minor": 2
}
